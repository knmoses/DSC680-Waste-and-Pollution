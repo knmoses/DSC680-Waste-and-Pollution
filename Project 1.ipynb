{
 "cells": [
  {
   "cell_type": "code",
   "execution_count": 1,
   "metadata": {},
   "outputs": [],
   "source": [
    "import pandas as pd\n",
    "import numpy as np\n",
    "import seaborn as sns\n",
    "import matplotlib.pyplot as plt\n",
    "import plotly.express as px\n",
    "import plotly.graph_objects as go\n",
    "\n",
    "%matplotlib inline"
   ]
  },
  {
   "cell_type": "code",
   "execution_count": 2,
   "metadata": {},
   "outputs": [],
   "source": [
    "#Materials dataset\n",
    "materials = pd.read_excel(\"statistic_id185710_us-municipal-waste-stream_-materials-generation-1960-2017.xlsx\", \n",
    "                          sheet_name='Data')"
   ]
  },
  {
   "cell_type": "code",
   "execution_count": 3,
   "metadata": {},
   "outputs": [],
   "source": [
    "#drop columns\n",
    "materials = materials.drop([\"Unnamed: 0\"], axis=1)"
   ]
  },
  {
   "cell_type": "code",
   "execution_count": 4,
   "metadata": {},
   "outputs": [],
   "source": [
    "#drop rows\n",
    "materials = materials.drop([0, 1, 2, 3])"
   ]
  },
  {
   "cell_type": "code",
   "execution_count": 5,
   "metadata": {},
   "outputs": [],
   "source": [
    "#rename columns\n",
    "materials = materials.rename(columns = {'Unnamed: 1': 'Year', 'Unnamed: 2': 'Paper', 'Unnamed: 3': 'Glass',\n",
    "                           'Unnamed: 4': 'Metals', 'Unnamed: 5': 'Plastics', 'Unnamed: 6': 'RubberLeather', \n",
    "                           'Unnamed: 7': 'Textiles', 'Unnamed: 8': 'Wood', 'Unnamed: 9': 'Other'}, inplace = False)"
   ]
  },
  {
   "cell_type": "code",
   "execution_count": 6,
   "metadata": {},
   "outputs": [
    {
     "data": {
      "text/html": [
       "<div>\n",
       "<style scoped>\n",
       "    .dataframe tbody tr th:only-of-type {\n",
       "        vertical-align: middle;\n",
       "    }\n",
       "\n",
       "    .dataframe tbody tr th {\n",
       "        vertical-align: top;\n",
       "    }\n",
       "\n",
       "    .dataframe thead th {\n",
       "        text-align: right;\n",
       "    }\n",
       "</style>\n",
       "<table border=\"1\" class=\"dataframe\">\n",
       "  <thead>\n",
       "    <tr style=\"text-align: right;\">\n",
       "      <th></th>\n",
       "      <th>Year</th>\n",
       "      <th>Paper</th>\n",
       "      <th>Glass</th>\n",
       "      <th>Metals</th>\n",
       "      <th>Plastics</th>\n",
       "      <th>RubberLeather</th>\n",
       "      <th>Textiles</th>\n",
       "      <th>Wood</th>\n",
       "      <th>Other</th>\n",
       "    </tr>\n",
       "  </thead>\n",
       "  <tbody>\n",
       "    <tr>\n",
       "      <td>4</td>\n",
       "      <td>1960</td>\n",
       "      <td>29990</td>\n",
       "      <td>6720</td>\n",
       "      <td>10820</td>\n",
       "      <td>390</td>\n",
       "      <td>1840</td>\n",
       "      <td>1760</td>\n",
       "      <td>3030</td>\n",
       "      <td>70</td>\n",
       "    </tr>\n",
       "    <tr>\n",
       "      <td>5</td>\n",
       "      <td>1970</td>\n",
       "      <td>44310</td>\n",
       "      <td>12740</td>\n",
       "      <td>13830</td>\n",
       "      <td>2900</td>\n",
       "      <td>2970</td>\n",
       "      <td>2040</td>\n",
       "      <td>3720</td>\n",
       "      <td>770</td>\n",
       "    </tr>\n",
       "    <tr>\n",
       "      <td>6</td>\n",
       "      <td>1980</td>\n",
       "      <td>55160</td>\n",
       "      <td>15130</td>\n",
       "      <td>15510</td>\n",
       "      <td>6830</td>\n",
       "      <td>4200</td>\n",
       "      <td>2530</td>\n",
       "      <td>7010</td>\n",
       "      <td>2520</td>\n",
       "    </tr>\n",
       "    <tr>\n",
       "      <td>7</td>\n",
       "      <td>1990</td>\n",
       "      <td>72730</td>\n",
       "      <td>13100</td>\n",
       "      <td>16550</td>\n",
       "      <td>17130</td>\n",
       "      <td>5790</td>\n",
       "      <td>5810</td>\n",
       "      <td>12210</td>\n",
       "      <td>3190</td>\n",
       "    </tr>\n",
       "    <tr>\n",
       "      <td>8</td>\n",
       "      <td>2000</td>\n",
       "      <td>87740</td>\n",
       "      <td>12770</td>\n",
       "      <td>18940</td>\n",
       "      <td>25530</td>\n",
       "      <td>6670</td>\n",
       "      <td>9480</td>\n",
       "      <td>13570</td>\n",
       "      <td>4000</td>\n",
       "    </tr>\n",
       "  </tbody>\n",
       "</table>\n",
       "</div>"
      ],
      "text/plain": [
       "   Year  Paper  Glass Metals Plastics RubberLeather Textiles   Wood Other\n",
       "4  1960  29990   6720  10820      390          1840     1760   3030    70\n",
       "5  1970  44310  12740  13830     2900          2970     2040   3720   770\n",
       "6  1980  55160  15130  15510     6830          4200     2530   7010  2520\n",
       "7  1990  72730  13100  16550    17130          5790     5810  12210  3190\n",
       "8  2000  87740  12770  18940    25530          6670     9480  13570  4000"
      ]
     },
     "execution_count": 6,
     "metadata": {},
     "output_type": "execute_result"
    }
   ],
   "source": [
    "#view materials dataset in 1,000 tons\n",
    "materials.head()"
   ]
  },
  {
   "cell_type": "code",
   "execution_count": 7,
   "metadata": {},
   "outputs": [
    {
     "name": "stdout",
     "output_type": "stream",
     "text": [
      "<class 'pandas.core.frame.DataFrame'>\n",
      "Int64Index: 14 entries, 4 to 17\n",
      "Data columns (total 9 columns):\n",
      "Year             14 non-null object\n",
      "Paper            14 non-null object\n",
      "Glass            14 non-null object\n",
      "Metals           14 non-null object\n",
      "Plastics         14 non-null object\n",
      "RubberLeather    14 non-null object\n",
      "Textiles         14 non-null object\n",
      "Wood             14 non-null object\n",
      "Other            14 non-null object\n",
      "dtypes: object(9)\n",
      "memory usage: 1.1+ KB\n"
     ]
    }
   ],
   "source": [
    "materials.info()"
   ]
  },
  {
   "cell_type": "code",
   "execution_count": 8,
   "metadata": {},
   "outputs": [],
   "source": [
    "materials['Year'] = materials.Year.astype(str).astype(int)\n",
    "materials['Paper'] = materials.Paper.astype(str).astype(int)\n",
    "materials['Glass'] = materials.Glass.astype(str).astype(int)\n",
    "materials['Metals'] = materials.Metals.astype(str).astype(int)\n",
    "materials['Plastics'] = materials.Plastics.astype(str).astype(int)\n",
    "materials['RubberLeather'] = materials.RubberLeather.astype(str).astype(int)\n",
    "materials['Textiles'] = materials.Textiles.astype(str).astype(int)\n",
    "materials['Wood'] = materials.Wood.astype(str).astype(int)\n",
    "materials['Other'] = materials.Other.astype(str).astype(int)"
   ]
  },
  {
   "cell_type": "code",
   "execution_count": 9,
   "metadata": {},
   "outputs": [
    {
     "data": {
      "text/html": [
       "<div>\n",
       "<style scoped>\n",
       "    .dataframe tbody tr th:only-of-type {\n",
       "        vertical-align: middle;\n",
       "    }\n",
       "\n",
       "    .dataframe tbody tr th {\n",
       "        vertical-align: top;\n",
       "    }\n",
       "\n",
       "    .dataframe thead th {\n",
       "        text-align: right;\n",
       "    }\n",
       "</style>\n",
       "<table border=\"1\" class=\"dataframe\">\n",
       "  <thead>\n",
       "    <tr style=\"text-align: right;\">\n",
       "      <th></th>\n",
       "      <th>Year</th>\n",
       "      <th>Paper</th>\n",
       "      <th>Glass</th>\n",
       "      <th>Metals</th>\n",
       "      <th>Plastics</th>\n",
       "      <th>RubberLeather</th>\n",
       "      <th>Textiles</th>\n",
       "      <th>Wood</th>\n",
       "      <th>Other</th>\n",
       "    </tr>\n",
       "  </thead>\n",
       "  <tbody>\n",
       "    <tr>\n",
       "      <td>count</td>\n",
       "      <td>14.000000</td>\n",
       "      <td>14.000000</td>\n",
       "      <td>14.000000</td>\n",
       "      <td>14.000000</td>\n",
       "      <td>14.000000</td>\n",
       "      <td>14.000000</td>\n",
       "      <td>14.000000</td>\n",
       "      <td>14.000000</td>\n",
       "      <td>14.000000</td>\n",
       "    </tr>\n",
       "    <tr>\n",
       "      <td>mean</td>\n",
       "      <td>2000.928571</td>\n",
       "      <td>66028.571429</td>\n",
       "      <td>11782.142857</td>\n",
       "      <td>20220.714286</td>\n",
       "      <td>24864.285714</td>\n",
       "      <td>6748.571429</td>\n",
       "      <td>11001.428571</td>\n",
       "      <td>13276.428571</td>\n",
       "      <td>3817.142857</td>\n",
       "    </tr>\n",
       "    <tr>\n",
       "      <td>std</td>\n",
       "      <td>18.631918</td>\n",
       "      <td>14752.273805</td>\n",
       "      <td>1791.630880</td>\n",
       "      <td>4427.458838</td>\n",
       "      <td>12602.888994</td>\n",
       "      <td>2260.601884</td>\n",
       "      <td>5666.583365</td>\n",
       "      <td>5009.280015</td>\n",
       "      <td>1620.514774</td>\n",
       "    </tr>\n",
       "    <tr>\n",
       "      <td>min</td>\n",
       "      <td>1960.000000</td>\n",
       "      <td>29990.000000</td>\n",
       "      <td>6720.000000</td>\n",
       "      <td>10820.000000</td>\n",
       "      <td>390.000000</td>\n",
       "      <td>1840.000000</td>\n",
       "      <td>1760.000000</td>\n",
       "      <td>3030.000000</td>\n",
       "      <td>70.000000</td>\n",
       "    </tr>\n",
       "    <tr>\n",
       "      <td>25%</td>\n",
       "      <td>1992.500000</td>\n",
       "      <td>67127.500000</td>\n",
       "      <td>11480.000000</td>\n",
       "      <td>17147.500000</td>\n",
       "      <td>19230.000000</td>\n",
       "      <td>6010.000000</td>\n",
       "      <td>6727.500000</td>\n",
       "      <td>12550.000000</td>\n",
       "      <td>3392.500000</td>\n",
       "    </tr>\n",
       "    <tr>\n",
       "      <td>50%</td>\n",
       "      <td>2010.500000</td>\n",
       "      <td>68605.000000</td>\n",
       "      <td>11530.000000</td>\n",
       "      <td>22185.000000</td>\n",
       "      <td>31670.000000</td>\n",
       "      <td>7585.000000</td>\n",
       "      <td>13175.000000</td>\n",
       "      <td>15740.000000</td>\n",
       "      <td>4580.000000</td>\n",
       "    </tr>\n",
       "    <tr>\n",
       "      <td>75%</td>\n",
       "      <td>2013.750000</td>\n",
       "      <td>70970.000000</td>\n",
       "      <td>12690.000000</td>\n",
       "      <td>23495.000000</td>\n",
       "      <td>33172.500000</td>\n",
       "      <td>8095.000000</td>\n",
       "      <td>15212.500000</td>\n",
       "      <td>16045.000000</td>\n",
       "      <td>4837.500000</td>\n",
       "    </tr>\n",
       "    <tr>\n",
       "      <td>max</td>\n",
       "      <td>2017.000000</td>\n",
       "      <td>87740.000000</td>\n",
       "      <td>15130.000000</td>\n",
       "      <td>25050.000000</td>\n",
       "      <td>35370.000000</td>\n",
       "      <td>9200.000000</td>\n",
       "      <td>16890.000000</td>\n",
       "      <td>18050.000000</td>\n",
       "      <td>5120.000000</td>\n",
       "    </tr>\n",
       "  </tbody>\n",
       "</table>\n",
       "</div>"
      ],
      "text/plain": [
       "              Year         Paper         Glass        Metals      Plastics  \\\n",
       "count    14.000000     14.000000     14.000000     14.000000     14.000000   \n",
       "mean   2000.928571  66028.571429  11782.142857  20220.714286  24864.285714   \n",
       "std      18.631918  14752.273805   1791.630880   4427.458838  12602.888994   \n",
       "min    1960.000000  29990.000000   6720.000000  10820.000000    390.000000   \n",
       "25%    1992.500000  67127.500000  11480.000000  17147.500000  19230.000000   \n",
       "50%    2010.500000  68605.000000  11530.000000  22185.000000  31670.000000   \n",
       "75%    2013.750000  70970.000000  12690.000000  23495.000000  33172.500000   \n",
       "max    2017.000000  87740.000000  15130.000000  25050.000000  35370.000000   \n",
       "\n",
       "       RubberLeather      Textiles          Wood        Other  \n",
       "count      14.000000     14.000000     14.000000    14.000000  \n",
       "mean     6748.571429  11001.428571  13276.428571  3817.142857  \n",
       "std      2260.601884   5666.583365   5009.280015  1620.514774  \n",
       "min      1840.000000   1760.000000   3030.000000    70.000000  \n",
       "25%      6010.000000   6727.500000  12550.000000  3392.500000  \n",
       "50%      7585.000000  13175.000000  15740.000000  4580.000000  \n",
       "75%      8095.000000  15212.500000  16045.000000  4837.500000  \n",
       "max      9200.000000  16890.000000  18050.000000  5120.000000  "
      ]
     },
     "execution_count": 9,
     "metadata": {},
     "output_type": "execute_result"
    }
   ],
   "source": [
    "#describe\n",
    "materials.describe()"
   ]
  },
  {
   "cell_type": "code",
   "execution_count": 10,
   "metadata": {},
   "outputs": [
    {
     "data": {
      "text/html": [
       "<div>\n",
       "<style scoped>\n",
       "    .dataframe tbody tr th:only-of-type {\n",
       "        vertical-align: middle;\n",
       "    }\n",
       "\n",
       "    .dataframe tbody tr th {\n",
       "        vertical-align: top;\n",
       "    }\n",
       "\n",
       "    .dataframe thead th {\n",
       "        text-align: right;\n",
       "    }\n",
       "</style>\n",
       "<table border=\"1\" class=\"dataframe\">\n",
       "  <thead>\n",
       "    <tr style=\"text-align: right;\">\n",
       "      <th></th>\n",
       "      <th>Year</th>\n",
       "      <th>Paper</th>\n",
       "      <th>Glass</th>\n",
       "      <th>Metals</th>\n",
       "      <th>Plastics</th>\n",
       "      <th>RubberLeather</th>\n",
       "      <th>Textiles</th>\n",
       "      <th>Wood</th>\n",
       "      <th>Other</th>\n",
       "    </tr>\n",
       "  </thead>\n",
       "  <tbody>\n",
       "    <tr>\n",
       "      <td>Year</td>\n",
       "      <td>1.000000</td>\n",
       "      <td>0.728855</td>\n",
       "      <td>0.151010</td>\n",
       "      <td>0.987350</td>\n",
       "      <td>0.992183</td>\n",
       "      <td>0.989548</td>\n",
       "      <td>0.969815</td>\n",
       "      <td>0.986215</td>\n",
       "      <td>0.987578</td>\n",
       "    </tr>\n",
       "    <tr>\n",
       "      <td>Paper</td>\n",
       "      <td>0.728855</td>\n",
       "      <td>1.000000</td>\n",
       "      <td>0.476963</td>\n",
       "      <td>0.634533</td>\n",
       "      <td>0.732035</td>\n",
       "      <td>0.727232</td>\n",
       "      <td>0.585520</td>\n",
       "      <td>0.763322</td>\n",
       "      <td>0.786277</td>\n",
       "    </tr>\n",
       "    <tr>\n",
       "      <td>Glass</td>\n",
       "      <td>0.151010</td>\n",
       "      <td>0.476963</td>\n",
       "      <td>1.000000</td>\n",
       "      <td>0.117131</td>\n",
       "      <td>0.056336</td>\n",
       "      <td>0.155058</td>\n",
       "      <td>-0.060395</td>\n",
       "      <td>0.121409</td>\n",
       "      <td>0.238937</td>\n",
       "    </tr>\n",
       "    <tr>\n",
       "      <td>Metals</td>\n",
       "      <td>0.987350</td>\n",
       "      <td>0.634533</td>\n",
       "      <td>0.117131</td>\n",
       "      <td>1.000000</td>\n",
       "      <td>0.974243</td>\n",
       "      <td>0.984020</td>\n",
       "      <td>0.980579</td>\n",
       "      <td>0.962731</td>\n",
       "      <td>0.963496</td>\n",
       "    </tr>\n",
       "    <tr>\n",
       "      <td>Plastics</td>\n",
       "      <td>0.992183</td>\n",
       "      <td>0.732035</td>\n",
       "      <td>0.056336</td>\n",
       "      <td>0.974243</td>\n",
       "      <td>1.000000</td>\n",
       "      <td>0.982674</td>\n",
       "      <td>0.977529</td>\n",
       "      <td>0.987373</td>\n",
       "      <td>0.973892</td>\n",
       "    </tr>\n",
       "    <tr>\n",
       "      <td>RubberLeather</td>\n",
       "      <td>0.989548</td>\n",
       "      <td>0.727232</td>\n",
       "      <td>0.155058</td>\n",
       "      <td>0.984020</td>\n",
       "      <td>0.982674</td>\n",
       "      <td>1.000000</td>\n",
       "      <td>0.964675</td>\n",
       "      <td>0.990001</td>\n",
       "      <td>0.981365</td>\n",
       "    </tr>\n",
       "    <tr>\n",
       "      <td>Textiles</td>\n",
       "      <td>0.969815</td>\n",
       "      <td>0.585520</td>\n",
       "      <td>-0.060395</td>\n",
       "      <td>0.980579</td>\n",
       "      <td>0.977529</td>\n",
       "      <td>0.964675</td>\n",
       "      <td>1.000000</td>\n",
       "      <td>0.953781</td>\n",
       "      <td>0.928840</td>\n",
       "    </tr>\n",
       "    <tr>\n",
       "      <td>Wood</td>\n",
       "      <td>0.986215</td>\n",
       "      <td>0.763322</td>\n",
       "      <td>0.121409</td>\n",
       "      <td>0.962731</td>\n",
       "      <td>0.987373</td>\n",
       "      <td>0.990001</td>\n",
       "      <td>0.953781</td>\n",
       "      <td>1.000000</td>\n",
       "      <td>0.982650</td>\n",
       "    </tr>\n",
       "    <tr>\n",
       "      <td>Other</td>\n",
       "      <td>0.987578</td>\n",
       "      <td>0.786277</td>\n",
       "      <td>0.238937</td>\n",
       "      <td>0.963496</td>\n",
       "      <td>0.973892</td>\n",
       "      <td>0.981365</td>\n",
       "      <td>0.928840</td>\n",
       "      <td>0.982650</td>\n",
       "      <td>1.000000</td>\n",
       "    </tr>\n",
       "  </tbody>\n",
       "</table>\n",
       "</div>"
      ],
      "text/plain": [
       "                   Year     Paper     Glass    Metals  Plastics  \\\n",
       "Year           1.000000  0.728855  0.151010  0.987350  0.992183   \n",
       "Paper          0.728855  1.000000  0.476963  0.634533  0.732035   \n",
       "Glass          0.151010  0.476963  1.000000  0.117131  0.056336   \n",
       "Metals         0.987350  0.634533  0.117131  1.000000  0.974243   \n",
       "Plastics       0.992183  0.732035  0.056336  0.974243  1.000000   \n",
       "RubberLeather  0.989548  0.727232  0.155058  0.984020  0.982674   \n",
       "Textiles       0.969815  0.585520 -0.060395  0.980579  0.977529   \n",
       "Wood           0.986215  0.763322  0.121409  0.962731  0.987373   \n",
       "Other          0.987578  0.786277  0.238937  0.963496  0.973892   \n",
       "\n",
       "               RubberLeather  Textiles      Wood     Other  \n",
       "Year                0.989548  0.969815  0.986215  0.987578  \n",
       "Paper               0.727232  0.585520  0.763322  0.786277  \n",
       "Glass               0.155058 -0.060395  0.121409  0.238937  \n",
       "Metals              0.984020  0.980579  0.962731  0.963496  \n",
       "Plastics            0.982674  0.977529  0.987373  0.973892  \n",
       "RubberLeather       1.000000  0.964675  0.990001  0.981365  \n",
       "Textiles            0.964675  1.000000  0.953781  0.928840  \n",
       "Wood                0.990001  0.953781  1.000000  0.982650  \n",
       "Other               0.981365  0.928840  0.982650  1.000000  "
      ]
     },
     "execution_count": 10,
     "metadata": {},
     "output_type": "execute_result"
    },
    {
     "data": {
      "image/png": "[encoded data removed]",
      "text/plain": [
       "<Figure size 1440x720 with 2 Axes>"
      ]
     },
     "metadata": {
      "needs_background": "light"
     },
     "output_type": "display_data"
    }
   ],
   "source": [
    "plt.figure(figsize=(20,10))\n",
    "cmaterials = materials.corr()\n",
    "sns.heatmap(cmaterials,cmap='BrBG',annot=True)\n",
    "cmaterials"
   ]
  },
  {
   "cell_type": "code",
   "execution_count": 11,
   "metadata": {},
   "outputs": [
    {
     "data": {
      "image/png": "[encoded data removed]",
      "text/plain": [
       "<Figure size 432x288 with 1 Axes>"
      ]
     },
     "metadata": {
      "needs_background": "light"
     },
     "output_type": "display_data"
    }
   ],
   "source": [
    "plt.bar(materials.Year, materials.Paper)\n",
    "plt.xlabel('Year')\n",
    "plt.ylabel('Paper')\n",
    "plt.show()"
   ]
  },
  {
   "cell_type": "code",
   "execution_count": 12,
   "metadata": {},
   "outputs": [
    {
     "data": {
      "image/png": "[encoded data removed]",
      "text/plain": [
       "<Figure size 432x288 with 1 Axes>"
      ]
     },
     "metadata": {
      "needs_background": "light"
     },
     "output_type": "display_data"
    }
   ],
   "source": [
    "data1 = materials.Glass\n",
    "data2 = materials.Paper\n",
    "data3 = materials.Metals\n",
    "data4 = materials.Plastics\n",
    "data5 = materials.Textiles\n",
    "data6 = materials.Other\n",
    "data7 = materials.Wood\n",
    "data8 = materials.RubberLeather\n",
    "\n",
    "width = 0.7\n",
    "plt.bar(materials.Year, data1, width=width, label ='Glass')\n",
    "plt.bar(materials.Year + width, data2, width=width, label = 'Paper')\n",
    "plt.bar(materials.Year + width + .25, data3, width=width, label = 'Metals')\n",
    "plt.bar(materials.Year + width + width + .25, data4, width=width, label = 'Plastics')\n",
    "plt.bar(materials.Year + width + width + width + .25, data5, width=width, label = 'Textiles')\n",
    "plt.bar(materials.Year + width + width + width + width + .25, data6, width=width, label = 'Other')\n",
    "plt.bar(materials.Year + width + width + width + width + width + .25, data7, width=width, label = 'Wood')\n",
    "plt.bar(materials.Year + width + width + width + width + width + width + .25, data8, width=width, label = 'Rubber/Leather')\n",
    "plt.legend(bbox_to_anchor=(1.05, 1), loc='upper left', borderaxespad=0.)\n",
    "plt.show()"
   ]
  },
  {
   "cell_type": "code",
   "execution_count": 13,
   "metadata": {},
   "outputs": [],
   "source": [
    "#Waste dataset\n",
    "waste = pd.read_excel(\"statistic_id186256_us-municipal-solid-waste-generation-1960-2017.xlsx\",sheet_name='Data')"
   ]
  },
  {
   "cell_type": "code",
   "execution_count": 14,
   "metadata": {},
   "outputs": [],
   "source": [
    "#drop columns\n",
    "waste = waste.drop([\"Unnamed: 0\"], axis=1)"
   ]
  },
  {
   "cell_type": "code",
   "execution_count": 15,
   "metadata": {},
   "outputs": [],
   "source": [
    "#drop rows\n",
    "waste = waste.drop([0, 1, 2, 3])"
   ]
  },
  {
   "cell_type": "code",
   "execution_count": 16,
   "metadata": {},
   "outputs": [],
   "source": [
    "#rename columns\n",
    "waste = waste.rename(columns = {'Unnamed: 1': 'Year', 'Unnamed: 2': 'GeneratedWaste'}, inplace = False)"
   ]
  },
  {
   "cell_type": "code",
   "execution_count": 17,
   "metadata": {},
   "outputs": [
    {
     "data": {
      "text/html": [
       "<div>\n",
       "<style scoped>\n",
       "    .dataframe tbody tr th:only-of-type {\n",
       "        vertical-align: middle;\n",
       "    }\n",
       "\n",
       "    .dataframe tbody tr th {\n",
       "        vertical-align: top;\n",
       "    }\n",
       "\n",
       "    .dataframe thead th {\n",
       "        text-align: right;\n",
       "    }\n",
       "</style>\n",
       "<table border=\"1\" class=\"dataframe\">\n",
       "  <thead>\n",
       "    <tr style=\"text-align: right;\">\n",
       "      <th></th>\n",
       "      <th>Year</th>\n",
       "      <th>GeneratedWaste</th>\n",
       "    </tr>\n",
       "  </thead>\n",
       "  <tbody>\n",
       "    <tr>\n",
       "      <td>4</td>\n",
       "      <td>1960</td>\n",
       "      <td>88.1</td>\n",
       "    </tr>\n",
       "    <tr>\n",
       "      <td>5</td>\n",
       "      <td>1970</td>\n",
       "      <td>121.1</td>\n",
       "    </tr>\n",
       "    <tr>\n",
       "      <td>6</td>\n",
       "      <td>1980</td>\n",
       "      <td>151.6</td>\n",
       "    </tr>\n",
       "    <tr>\n",
       "      <td>7</td>\n",
       "      <td>1990</td>\n",
       "      <td>208.3</td>\n",
       "    </tr>\n",
       "    <tr>\n",
       "      <td>8</td>\n",
       "      <td>2000</td>\n",
       "      <td>243.5</td>\n",
       "    </tr>\n",
       "  </tbody>\n",
       "</table>\n",
       "</div>"
      ],
      "text/plain": [
       "   Year  GeneratedWaste\n",
       "4  1960            88.1\n",
       "5  1970           121.1\n",
       "6  1980           151.6\n",
       "7  1990           208.3\n",
       "8  2000           243.5"
      ]
     },
     "execution_count": 17,
     "metadata": {},
     "output_type": "execute_result"
    }
   ],
   "source": [
    "#View waste dataset\n",
    "waste.head()"
   ]
  },
  {
   "cell_type": "code",
   "execution_count": 18,
   "metadata": {},
   "outputs": [
    {
     "data": {
      "text/html": [
       "<div>\n",
       "<style scoped>\n",
       "    .dataframe tbody tr th:only-of-type {\n",
       "        vertical-align: middle;\n",
       "    }\n",
       "\n",
       "    .dataframe tbody tr th {\n",
       "        vertical-align: top;\n",
       "    }\n",
       "\n",
       "    .dataframe thead th {\n",
       "        text-align: right;\n",
       "    }\n",
       "</style>\n",
       "<table border=\"1\" class=\"dataframe\">\n",
       "  <thead>\n",
       "    <tr style=\"text-align: right;\">\n",
       "      <th></th>\n",
       "      <th>GeneratedWaste</th>\n",
       "    </tr>\n",
       "  </thead>\n",
       "  <tbody>\n",
       "    <tr>\n",
       "      <td>count</td>\n",
       "      <td>10.000000</td>\n",
       "    </tr>\n",
       "    <tr>\n",
       "      <td>mean</td>\n",
       "      <td>211.410000</td>\n",
       "    </tr>\n",
       "    <tr>\n",
       "      <td>std</td>\n",
       "      <td>66.799059</td>\n",
       "    </tr>\n",
       "    <tr>\n",
       "      <td>min</td>\n",
       "      <td>88.100000</td>\n",
       "    </tr>\n",
       "    <tr>\n",
       "      <td>25%</td>\n",
       "      <td>165.775000</td>\n",
       "    </tr>\n",
       "    <tr>\n",
       "      <td>50%</td>\n",
       "      <td>247.300000</td>\n",
       "    </tr>\n",
       "    <tr>\n",
       "      <td>75%</td>\n",
       "      <td>260.000000</td>\n",
       "    </tr>\n",
       "    <tr>\n",
       "      <td>max</td>\n",
       "      <td>267.800000</td>\n",
       "    </tr>\n",
       "  </tbody>\n",
       "</table>\n",
       "</div>"
      ],
      "text/plain": [
       "       GeneratedWaste\n",
       "count       10.000000\n",
       "mean       211.410000\n",
       "std         66.799059\n",
       "min         88.100000\n",
       "25%        165.775000\n",
       "50%        247.300000\n",
       "75%        260.000000\n",
       "max        267.800000"
      ]
     },
     "execution_count": 18,
     "metadata": {},
     "output_type": "execute_result"
    }
   ],
   "source": [
    "waste.describe()"
   ]
  },
  {
   "cell_type": "code",
   "execution_count": 19,
   "metadata": {},
   "outputs": [],
   "source": [
    "waste['Year'] = waste.Year.astype(str).astype(int)\n",
    "waste['GeneratedWaste'] = waste.GeneratedWaste.astype(int)"
   ]
  },
  {
   "cell_type": "code",
   "execution_count": 20,
   "metadata": {},
   "outputs": [
    {
     "name": "stdout",
     "output_type": "stream",
     "text": [
      "<class 'pandas.core.frame.DataFrame'>\n",
      "Int64Index: 10 entries, 4 to 13\n",
      "Data columns (total 2 columns):\n",
      "Year              10 non-null int32\n",
      "GeneratedWaste    10 non-null int32\n",
      "dtypes: int32(2)\n",
      "memory usage: 160.0 bytes\n"
     ]
    }
   ],
   "source": [
    "waste.info()"
   ]
  },
  {
   "cell_type": "code",
   "execution_count": 21,
   "metadata": {},
   "outputs": [
    {
     "data": {
      "text/plain": [
       "<BarContainer object of 10 artists>"
      ]
     },
     "execution_count": 21,
     "metadata": {},
     "output_type": "execute_result"
    },
    {
     "data": {
      "image/png": "[encoded data removed]",
      "text/plain": [
       "<Figure size 432x288 with 1 Axes>"
      ]
     },
     "metadata": {
      "needs_background": "light"
     },
     "output_type": "display_data"
    }
   ],
   "source": [
    "data1 = waste.GeneratedWaste\n",
    "\n",
    "width = 0.5\n",
    "plt.bar(waste.Year, data1, width=width)"
   ]
  }
 ],
 "metadata": {
  "kernelspec": {
   "display_name": "Python 3",
   "language": "python",
   "name": "python3"
  },
  "language_info": {
   "codemirror_mode": {
    "name": "ipython",
    "version": 3
   },
   "file_extension": ".py",
   "mimetype": "text/x-python",
   "name": "python",
   "nbconvert_exporter": "python",
   "pygments_lexer": "ipython3",
   "version": "3.7.4"
  }
 },
 "nbformat": 4,
 "nbformat_minor": 2
}
